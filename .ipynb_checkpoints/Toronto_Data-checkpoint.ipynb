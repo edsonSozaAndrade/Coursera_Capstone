{
 "cells": [
  {
   "cell_type": "markdown",
   "metadata": {},
   "source": [
    "#### Install Web Scraper"
   ]
  },
  {
   "cell_type": "code",
   "execution_count": 2,
   "metadata": {},
   "outputs": [
    {
     "name": "stdout",
     "output_type": "stream",
     "text": [
      "Searching for beautifulsoup4\n",
      "Best match: beautifulsoup4 4.7.1\n",
      "Adding beautifulsoup4 4.7.1 to easy-install.pth file\n",
      "\n",
      "Using c:\\users\\edson\\anaconda3\\lib\\site-packages\n",
      "Processing dependencies for beautifulsoup4\n",
      "Finished processing dependencies for beautifulsoup4\n"
     ]
    }
   ],
   "source": [
    "! easy_install beautifulsoup4"
   ]
  },
  {
   "cell_type": "markdown",
   "metadata": {},
   "source": [
    "#### Install Dependencies for HTML5"
   ]
  },
  {
   "cell_type": "code",
   "execution_count": 5,
   "metadata": {},
   "outputs": [
    {
     "name": "stdout",
     "output_type": "stream",
     "text": [
      "Searching for html5lib\n",
      "Best match: html5lib 1.0.1\n",
      "Adding html5lib 1.0.1 to easy-install.pth file\n",
      "\n",
      "Using c:\\users\\edson\\anaconda3\\lib\\site-packages\n",
      "Processing dependencies for html5lib\n",
      "Finished processing dependencies for html5lib\n"
     ]
    }
   ],
   "source": [
    "! easy_install html5lib"
   ]
  },
  {
   "cell_type": "markdown",
   "metadata": {},
   "source": [
    "#### Install Dependences"
   ]
  },
  {
   "cell_type": "code",
   "execution_count": 197,
   "metadata": {},
   "outputs": [],
   "source": [
    "import pandas as pd\n",
    "import requests\n",
    "from bs4 import BeautifulSoup"
   ]
  },
  {
   "cell_type": "code",
   "execution_count": null,
   "metadata": {},
   "outputs": [],
   "source": [
    "canadaRequest = requests.get('https://en.wikipedia.org/wiki/List_of_postal_codes_of_Canada:_M')\n",
    "canadaSoup = BeautifulSoup(canadaRequest.text, \"html5lib\")\n",
    "#create var for df\n",
    "columnNames = []\n",
    "#read Headers of table\n",
    "for head in canadaSoup.table.tbody.tr:\n",
    "    if (head.string!='\\n'):\n",
    "        columnNames.append(head.string.replace('\\n',''))\n",
    "dfCanada = pd.DataFrame(columns=columnNames)\n",
    "dfCanada"
   ]
  },
  {
   "cell_type": "markdown",
   "metadata": {},
   "source": [
    "#### Fill data from Table"
   ]
  },
  {
   "cell_type": "code",
   "execution_count": 235,
   "metadata": {},
   "outputs": [],
   "source": [
    "# Fill Data from Wikipedia Page\n",
    "table_body = canadaSoup.find('tbody')\n",
    "rows = table_body.find_all('tr')\n",
    "for row in rows:\n",
    "    cols = row.find_all('td')\n",
    "    cols = [ele.text.strip() for ele in cols]\n",
    "    if (len(cols)!=0):\n",
    "        dfCanada = dfCanada.append({\n",
    "            'Postcode' : cols[0],\n",
    "            'Borough': cols[1],\n",
    "            'Neighbourhood' : cols[2]\n",
    "        }, ignore_index=True)"
   ]
  },
  {
   "cell_type": "code",
   "execution_count": null,
   "metadata": {},
   "outputs": [],
   "source": [
    "# filter data frame without \"Not Assigned\" -> Borough\n",
    "dfCanadaClean = dfCanada['Borough']!='Not assigned'\n",
    "dfCanada = dfCanada[dfCanadaClean].reset_index(drop=True)\n",
    "dfCanada"
   ]
  },
  {
   "cell_type": "code",
   "execution_count": null,
   "metadata": {},
   "outputs": [],
   "source": [
    "dfCanada"
   ]
  },
  {
   "cell_type": "code",
   "execution_count": null,
   "metadata": {},
   "outputs": [],
   "source": []
  }
 ],
 "metadata": {
  "kernelspec": {
   "display_name": "Python 3",
   "language": "python",
   "name": "python3"
  },
  "language_info": {
   "codemirror_mode": {
    "name": "ipython",
    "version": 3
   },
   "file_extension": ".py",
   "mimetype": "text/x-python",
   "name": "python",
   "nbconvert_exporter": "python",
   "pygments_lexer": "ipython3",
   "version": "3.7.3"
  },
  "pycharm": {
   "stem_cell": {
    "cell_type": "raw",
    "metadata": {
     "collapsed": false
    },
    "source": []
   }
  }
 },
 "nbformat": 4,
 "nbformat_minor": 2
}
