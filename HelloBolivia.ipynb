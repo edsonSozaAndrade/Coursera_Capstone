{
 "cells": [
  {
   "cell_type": "markdown",
   "metadata": {},
   "source": [
    "# Cost of living & Venues Data Analysis of most popular cities in Bolivia"
   ]
  },
  {
   "cell_type": "markdown",
   "metadata": {},
   "source": [
    "## 1. Introduction"
   ]
  },
  {
   "cell_type": "markdown",
   "metadata": {},
   "source": [
    "### 1.1. Description & Disscusion of the Background"
   ]
  },
  {
   "cell_type": "markdown",
   "metadata": {},
   "source": [
    "[Bolivia](https://en.wikipedia.org/wiki/Bolivia) according to the census conducted in 2012 has a population of 10,027,254 people, and the main cities according to the [population census](http://ibce.org.bo/publicaciones-descarga.php?id=2119&opcion=5) are:"
   ]
  },
  {
   "cell_type": "markdown",
   "metadata": {},
   "source": [
    "| City |  Population   | Population Density |\n",
    "|------|---------------|--------------------|\n",
    "|  La Paz |  2.706.351 |      20.20         |\n",
    "|  Santa Cruz |  2.706.351 |      7.16      |\n",
    "|  Cochabamba |  2.706.351 |      31.60     |\n",
    "|  Total      |  6.191.533 |          |"
   ]
  },
  {
   "cell_type": "markdown",
   "metadata": {},
   "source": [
    "Only these 3 cities represent 61.74% of the general population, that is why the analysis will focus on these 3 cities in the following points:\n",
    "*   Cost of living\n",
    "*   Similarities between these 3 cities from the economic point of view\n",
    "*   Relationship between the venues of each city through the Foursquare API to find similarities between the different districts of the city of La Paz, Santa Cruz and Cochabamba"
   ]
  },
  {
   "cell_type": "markdown",
   "metadata": {},
   "source": [
    "This analysis allows people who have an interest in Bolivia to see a comparative analysis of the cost of living in relation to different cities, growth and if they decide to move what type of zones or districts can be ideal or similar between the larger cities from the country"
   ]
  },
  {
   "cell_type": "markdown",
   "metadata": {},
   "source": [
    "### 1.2 Data Description"
   ]
  },
  {
   "cell_type": "markdown",
   "metadata": {},
   "source": [
    "* For the cost of living analysis, [Numbeo](https://www.numbeo.com/cost-of-living/region_rankings.jsp?title=2010&region=005) data will be taken to determine the growth of the city of La Paz and a prediction model until the year 2025."
   ]
  },
  {
   "cell_type": "markdown",
   "metadata": {},
   "source": [
    "    For example data obtained for 2009:\n",
    "\t\n",
    "|  City      |   Cost of Living Index      |Rent Index |Cost of Living Plus Rent Index|Groceries Index|Restaurant Price Index|Local Purchasing Power Index|\n",
    "|-----------------------|---------------|------|-----|-----|-----|-----|\n",
    "|  La Paz, Bolivia      |    46.72      |21.76 |36.82|27.09|37.16|32.47|\n",
    " \t \t \t \t \t \t \t"
   ]
  },
  {
   "cell_type": "markdown",
   "metadata": {},
   "source": [
    "* For the analysis of the 3 cities, the detailed data of the [Numbeo website](https://www.numbeo.com/cost-of-living/in/Santa-Cruz-Bolivia) will be obtained, including the cost of basic basket items, among others, and the comparison will be established against the different capitals of South America and the data clustering will be carried out to determine a classification and similarity between the different cities."
   ]
  },
  {
   "cell_type": "markdown",
   "metadata": {},
   "source": [
    "    A sample Data for Santa Cruz City\n",
    "\n",
    "|Description|Price|\n",
    "|-----------------------|---------------|\n",
    "|Meal, Inexpensive Restaurant| \t3.18  |\n",
    "|Meal for 2 People| 21.18 |\n",
    "|Tomato (1kg)| \t1.04 |\n",
    "|Potato (1kg)| \t0.67 |"
   ]
  },
  {
   "cell_type": "markdown",
   "metadata": {},
   "source": [
    "* Finally, an analysis will be made between the different districts of the city of La Paz, Cochabamba and Santa Cruz to determine which districts are similar in relation to points of interest found through the [Foursquare API](https://developer.foursquare.com/)."
   ]
  },
  {
   "cell_type": "markdown",
   "metadata": {},
   "source": [
    "    A sample data from Foursquare\n",
    "|District|City|Venue| Venue Category| Latitude | Longitude|\n",
    "|--------|-----------------------|---------------|-----|-----|----|\n",
    "|District 1|Santa Cruz | Casa del Camba | Fast food | 23.123123| 22.2312|\n",
    "|District 1|Cochabamba | Llajuuita | Fast food | 23.122323| 22.987621|\n",
    "|Center |La Paz | Copacabana | Fast food | 23.122323| 22.987621|"
   ]
  },
  {
   "cell_type": "markdown",
   "metadata": {},
   "source": [
    "## 2. Methodology"
   ]
  },
  {
   "cell_type": "markdown",
   "metadata": {},
   "source": [
    "### 2.1 Obtaining and Formating Data"
   ]
  },
  {
   "cell_type": "markdown",
   "metadata": {},
   "source": [
    "#### Installing Dependences"
   ]
  },
  {
   "cell_type": "code",
   "execution_count": 3,
   "metadata": {},
   "outputs": [
    {
     "name": "stdout",
     "output_type": "stream",
     "text": [
      "Searching for beautifulsoup4\n",
      "Best match: beautifulsoup4 4.7.1\n",
      "Adding beautifulsoup4 4.7.1 to easy-install.pth file\n",
      "\n",
      "Using c:\\users\\edson\\anaconda3\\lib\\site-packages\n",
      "Processing dependencies for beautifulsoup4\n",
      "Finished processing dependencies for beautifulsoup4\n"
     ]
    }
   ],
   "source": [
    "! easy_install beautifulsoup4"
   ]
  },
  {
   "cell_type": "code",
   "execution_count": 4,
   "metadata": {},
   "outputs": [
    {
     "name": "stdout",
     "output_type": "stream",
     "text": [
      "Searching for html5lib\n",
      "Best match: html5lib 1.0.1\n",
      "Adding html5lib 1.0.1 to easy-install.pth file\n",
      "\n",
      "Using c:\\users\\edson\\anaconda3\\lib\\site-packages\n",
      "Processing dependencies for html5lib\n",
      "Finished processing dependencies for html5lib\n"
     ]
    }
   ],
   "source": [
    "! easy_install html5lib"
   ]
  },
  {
   "cell_type": "code",
   "execution_count": 5,
   "metadata": {},
   "outputs": [
    {
     "name": "stdout",
     "output_type": "stream",
     "text": [
      "Requirement already satisfied: geocoder in c:\\users\\edson\\anaconda3\\lib\\site-packages\\geocoder-1.38.1-py3.7.egg (1.38.1)\n",
      "Requirement already satisfied: click in c:\\users\\edson\\anaconda3\\lib\\site-packages (from geocoder) (7.0)\n",
      "Requirement already satisfied: future in c:\\users\\edson\\anaconda3\\lib\\site-packages (from geocoder) (0.17.1)\n",
      "Requirement already satisfied: ratelim in c:\\users\\edson\\anaconda3\\lib\\site-packages\\ratelim-0.1.6-py3.7.egg (from geocoder) (0.1.6)\n",
      "Requirement already satisfied: requests in c:\\users\\edson\\anaconda3\\lib\\site-packages (from geocoder) (2.21.0)\n",
      "Requirement already satisfied: six in c:\\users\\edson\\anaconda3\\lib\\site-packages (from geocoder) (1.12.0)\n",
      "Requirement already satisfied: decorator in c:\\users\\edson\\anaconda3\\lib\\site-packages (from ratelim->geocoder) (4.4.0)\n",
      "Requirement already satisfied: chardet<3.1.0,>=3.0.2 in c:\\users\\edson\\anaconda3\\lib\\site-packages (from requests->geocoder) (3.0.4)\n",
      "Requirement already satisfied: urllib3<1.25,>=1.21.1 in c:\\users\\edson\\anaconda3\\lib\\site-packages (from requests->geocoder) (1.24.1)\n",
      "Requirement already satisfied: idna<2.9,>=2.5 in c:\\users\\edson\\anaconda3\\lib\\site-packages (from requests->geocoder) (2.8)\n",
      "Requirement already satisfied: certifi>=2017.4.17 in c:\\users\\edson\\anaconda3\\lib\\site-packages (from requests->geocoder) (2019.3.9)\n",
      "Note: you may need to restart the kernel to use updated packages.\n"
     ]
    }
   ],
   "source": [
    "pip install geocoder"
   ]
  },
  {
   "cell_type": "code",
   "execution_count": 6,
   "metadata": {},
   "outputs": [
    {
     "name": "stdout",
     "output_type": "stream",
     "text": [
      "Collecting package metadata: ...working... done\n",
      "Solving environment: ...working... done\n",
      "\n",
      "# All requested packages already installed.\n",
      "\n"
     ]
    }
   ],
   "source": [
    "!conda install -c conda-forge geopy --yes"
   ]
  },
  {
   "cell_type": "code",
   "execution_count": 5,
   "metadata": {},
   "outputs": [
    {
     "name": "stdout",
     "output_type": "stream",
     "text": [
      "Collecting package metadata: ...working... done\n",
      "Solving environment: ...working... done\n",
      "\n",
      "# All requested packages already installed.\n",
      "\n"
     ]
    }
   ],
   "source": [
    "!conda install -c conda-forge folium=0.5.0 --yes"
   ]
  },
  {
   "cell_type": "markdown",
   "metadata": {},
   "source": [
    "#### Import Libraries"
   ]
  },
  {
   "cell_type": "code",
   "execution_count": 168,
   "metadata": {},
   "outputs": [],
   "source": [
    "import pandas as pd\n",
    "import requests\n",
    "import numpy as np\n",
    "import io\n",
    "import requests\n",
    "from bs4 import BeautifulSoup\n",
    "import geocoder # import geocoder\n",
    "from geopy.geocoders import Nominatim\n",
    "import folium # map rendering library\n",
    "# import k-means from clustering stage\n",
    "from sklearn.cluster import KMeans\n",
    "# Matplotlib and associated plotting modules\n",
    "import matplotlib.pyplot as plt\n",
    "import matplotlib.cm as cm\n",
    "import matplotlib.colors as colors\n",
    "import math"
   ]
  },
  {
   "cell_type": "markdown",
   "metadata": {},
   "source": [
    "Set and obtain the columns of the dataframe using a single request with random year"
   ]
  },
  {
   "cell_type": "code",
   "execution_count": 253,
   "metadata": {},
   "outputs": [],
   "source": [
    "#Years for web scraping on Numbeo Page\n",
    "years = ['2009','2010','2011','2012','2013','2014','2015','2016','2017','2018','2019']\n",
    "#URL for web scrapping\n",
    "urlCostLivingIndex = 'https://www.numbeo.com/cost-of-living/region_rankings.jsp?title={}&region=005'\n",
    "urlCostLivingForHeaders = 'https://www.numbeo.com/cost-of-living/region_rankings.jsp?title=2009&region=005'\n",
    "#create var for column data frame\n",
    "columnNames = ['Year']\n",
    "#create request only for obtain the value of headers using specific year\n",
    "laPazCostLivingRequest = requests.get(urlCostLivingForHeaders)\n",
    "laPazSoup = BeautifulSoup(laPazCostLivingRequest.text, \"html5lib\")\n",
    "\n",
    "#Create the column Names for data frame\n",
    "for tag in laPazSoup.find_all('table'):\n",
    "        if (tag.get('id') == \"t2\"):\n",
    "            for head in tag.thead.tr:\n",
    "                name = head.string;\n",
    "                if (name not in ['\\n\\t','\\n\\t\\t']):\n",
    "                    columnNames.append(name)\n",
    "#Create a data frame with the table of Numbeo web page\n",
    "dfLaPazCostLiving = pd.DataFrame(columns=columnNames)"
   ]
  },
  {
   "cell_type": "markdown",
   "metadata": {},
   "source": [
    "Fill data for every single year"
   ]
  },
  {
   "cell_type": "code",
   "execution_count": 254,
   "metadata": {},
   "outputs": [],
   "source": [
    "#Obtain data for every year using the array and one request for each year\n",
    "for year in years:\n",
    "    laPazCostLivingRequestPerYear = requests.get(urlCostLivingIndex.format(year))\n",
    "    laPazSoupPerYear = BeautifulSoup(laPazCostLivingRequestPerYear.text, \"html5lib\")\n",
    "    for tag in laPazSoupPerYear.find_all('table'):\n",
    "        if (tag.get('id') == \"t2\"):\n",
    "            rows = tag.find_all('tr')\n",
    "            for row in rows:\n",
    "                cols = row.find_all('td')\n",
    "                cols = [ele.text.strip() for ele in cols]\n",
    "                if (len(cols)!=0):\n",
    "                    dfLaPazCostLiving = dfLaPazCostLiving.append({\n",
    "                        'Year' : int(year),\n",
    "                        'Rank' : cols[0],\n",
    "                        'City': cols[1],\n",
    "                        'Cost of Living Index' : float(cols[2]),\n",
    "                        'Rent Index' : float(cols[3]),\n",
    "                        'Cost of Living Plus Rent Index' : float(cols[4]),\n",
    "                        'Groceries Index' : float(cols[5]),\n",
    "                        'Restaurant Price Index' : float(cols[6]),\n",
    "                        'Local Purchasing Power Index' : float(cols[7]),\n",
    "                    }, ignore_index=True)"
   ]
  },
  {
   "cell_type": "markdown",
   "metadata": {},
   "source": [
    "Clean and drop duplicate data and reset indexes, I considerer these values on the table as important for analysis."
   ]
  },
  {
   "cell_type": "code",
   "execution_count": 260,
   "metadata": {},
   "outputs": [
    {
     "data": {
      "text/html": [
       "<div>\n",
       "<style scoped>\n",
       "    .dataframe tbody tr th:only-of-type {\n",
       "        vertical-align: middle;\n",
       "    }\n",
       "\n",
       "    .dataframe tbody tr th {\n",
       "        vertical-align: top;\n",
       "    }\n",
       "\n",
       "    .dataframe thead th {\n",
       "        text-align: right;\n",
       "    }\n",
       "</style>\n",
       "<table border=\"1\" class=\"dataframe\">\n",
       "  <thead>\n",
       "    <tr style=\"text-align: right;\">\n",
       "      <th></th>\n",
       "      <th>Year</th>\n",
       "      <th>Cost of Living Index</th>\n",
       "      <th>Rent Index</th>\n",
       "      <th>Groceries Index</th>\n",
       "      <th>Restaurant Price Index</th>\n",
       "    </tr>\n",
       "  </thead>\n",
       "  <tbody>\n",
       "    <tr>\n",
       "      <th>0</th>\n",
       "      <td>2009</td>\n",
       "      <td>46.72</td>\n",
       "      <td>21.76</td>\n",
       "      <td>27.09</td>\n",
       "      <td>37.16</td>\n",
       "    </tr>\n",
       "    <tr>\n",
       "      <th>1</th>\n",
       "      <td>2010</td>\n",
       "      <td>39.76</td>\n",
       "      <td>19.41</td>\n",
       "      <td>26.40</td>\n",
       "      <td>37.85</td>\n",
       "    </tr>\n",
       "    <tr>\n",
       "      <th>2</th>\n",
       "      <td>2011</td>\n",
       "      <td>39.00</td>\n",
       "      <td>16.61</td>\n",
       "      <td>25.92</td>\n",
       "      <td>28.00</td>\n",
       "    </tr>\n",
       "    <tr>\n",
       "      <th>3</th>\n",
       "      <td>2014</td>\n",
       "      <td>38.71</td>\n",
       "      <td>11.85</td>\n",
       "      <td>38.58</td>\n",
       "      <td>22.88</td>\n",
       "    </tr>\n",
       "    <tr>\n",
       "      <th>4</th>\n",
       "      <td>2019</td>\n",
       "      <td>38.63</td>\n",
       "      <td>12.04</td>\n",
       "      <td>32.38</td>\n",
       "      <td>33.90</td>\n",
       "    </tr>\n",
       "  </tbody>\n",
       "</table>\n",
       "</div>"
      ],
      "text/plain": [
       "   Year  Cost of Living Index  Rent Index  Groceries Index  \\\n",
       "0  2009                 46.72       21.76            27.09   \n",
       "1  2010                 39.76       19.41            26.40   \n",
       "2  2011                 39.00       16.61            25.92   \n",
       "3  2014                 38.71       11.85            38.58   \n",
       "4  2019                 38.63       12.04            32.38   \n",
       "\n",
       "   Restaurant Price Index  \n",
       "0                   37.16  \n",
       "1                   37.85  \n",
       "2                   28.00  \n",
       "3                   22.88  \n",
       "4                   33.90  "
      ]
     },
     "execution_count": 260,
     "metadata": {},
     "output_type": "execute_result"
    }
   ],
   "source": [
    "laPazOnlyFiltered = dfLaPazCostLiving[dfLaPazCostLiving.City == 'La Paz, Bolivia']\n",
    "#Delete duplicates and reorder data\n",
    "laPazOnlyFiltered = laPazOnlyFiltered.drop_duplicates().reset_index(drop=True)\n",
    "laPazOnlyFiltered.drop(labels=['Rank','Cost of Living Plus Rent Index','Local Purchasing Power Index','City'], axis=1,inplace = True)\n",
    "laPazOnlyFiltered"
   ]
  },
  {
   "cell_type": "markdown",
   "metadata": {},
   "source": [
    "#### Show Plots for every variable through years"
   ]
  },
  {
   "cell_type": "markdown",
   "metadata": {},
   "source": [
    "##### Year vs Cost of living"
   ]
  },
  {
   "cell_type": "code",
   "execution_count": 306,
   "metadata": {},
   "outputs": [
    {
     "data": {
      "image/png": "[encoded data removed]",
      "text/plain": [
       "<Figure size 1080x360 with 1 Axes>"
      ]
     },
     "metadata": {},
     "output_type": "display_data"
    }
   ],
   "source": [
    "plt.figure(figsize=(15,5))\n",
    "plt.plot('Year','Cost of Living Index','ro-', data = laPazOnlyFiltered , label = 'Cost Of Living')\n",
    "plt.plot('Year','Rent Index', 'ko-', data = laPazOnlyFiltered, label = 'Cost Of Rent')\n",
    "plt.plot('Year','Groceries Index', 'go-',data = laPazOnlyFiltered, label = 'Cost Of Groceries')\n",
    "plt.plot('Year','Restaurant Price Index', 'bo-' ,data = laPazOnlyFiltered, label = \"Cost Of Restaurant's\")\n",
    "plt.title('Plot of cost of living through Years in La Paz')\n",
    "plt.xlabel('Years')\n",
    "plt.ylim(0,50)\n",
    "plt.legend()\n",
    "plt.show()"
   ]
  },
  {
   "cell_type": "code",
   "execution_count": null,
   "metadata": {},
   "outputs": [],
   "source": []
  },
  {
   "cell_type": "code",
   "execution_count": null,
   "metadata": {},
   "outputs": [],
   "source": []
  }
 ],
 "metadata": {
  "kernelspec": {
   "display_name": "Python 3",
   "language": "python",
   "name": "python3"
  },
  "language_info": {
   "codemirror_mode": {
    "name": "ipython",
    "version": 3
   },
   "file_extension": ".py",
   "mimetype": "text/x-python",
   "name": "python",
   "nbconvert_exporter": "python",
   "pygments_lexer": "ipython3",
   "version": "3.7.3"
  }
 },
 "nbformat": 4,
 "nbformat_minor": 2
}
